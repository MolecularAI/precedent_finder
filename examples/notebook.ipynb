{
 "cells": [
  {
   "cell_type": "markdown",
   "metadata": {},
   "source": [
    "### Tutorial for Precedent Finder\n",
    "\n",
    "This tutorial goes through step-by-step how to \n",
    "\n",
    "* Load the necessary input to the Precedent Finder\n",
    "* Assign atom-mapping to a query reaction\n",
    "* Run Precedent Finder\n",
    "* Visualize results\n",
    "\n",
    "It requires you to setup an environment with the `rxnmapper` tool and an environment for the Precedent Finder tool (see README.md at the repository top-level)"
   ]
  },
  {
   "cell_type": "code",
   "execution_count": null,
   "metadata": {},
   "outputs": [],
   "source": [
    "import base64\n",
    "import os\n",
    "from io import BytesIO\n",
    "from collections import defaultdict\n",
    "from pathlib import Path\n",
    "\n",
    "import pandas as pd\n",
    "from scipy import sparse\n",
    "from rdkit.Chem import AllChem, Draw\n",
    "from IPython.display import HTML\n",
    "\n",
    "from rxnutils.pipeline.actions.reaction_mod import RxnMapper\n",
    "\n",
    "import sys\n",
    "sys.path.append(\"..\")\n",
    "from precedent_finder import find_precedents\n",
    "\n",
    "pd.options.display.float_format = \"{:.2f}\".format\n",
    "pd.set_option(\"display.max_colwidth\", None)\n",
    "\n",
    "# To use rxnmapper, this assumes your conda and the \n",
    "# environments are installed in your home directory - update if necessary\n",
    "conda_path = os.path.expanduser(\"~\") + \"/miniconda3\"\n",
    "os.environ[\"RXNMAPPER_ENV_PATH\"] = f\"{conda_path}/envs/rxnmapper/\""
   ]
  },
  {
   "cell_type": "code",
   "execution_count": null,
   "metadata": {},
   "outputs": [],
   "source": [
    "def atom_map_reaction(rsmi):\n",
    "    df = pd.DataFrame({\n",
    "        \"rsmi\": [rsmi]\n",
    "    })\n",
    "    df2 = RxnMapper(in_column=\"rsmi\")(df)\n",
    "    return df2[\"RxnmapperRxnSmiles\"].iloc[0]"
   ]
  },
  {
   "cell_type": "code",
   "execution_count": null,
   "metadata": {},
   "outputs": [],
   "source": [
    "def image_formatter(im):\n",
    "    with BytesIO() as buffer:\n",
    "        im.save(buffer, \"jpeg\")\n",
    "        image_base64 = base64.b64encode(buffer.getvalue()).decode()\n",
    "    return f'<img src=\"data:image/jpeg;base64,{image_base64}\">'"
   ]
  },
  {
   "cell_type": "markdown",
   "metadata": {},
   "source": [
    "This loads the precomputed fingerprints, reaction metadata and SMARTS library"
   ]
  },
  {
   "cell_type": "code",
   "execution_count": null,
   "metadata": {},
   "outputs": [],
   "source": [
    "rfp = sparse.load_npz(Path(\"../data\") / \"rfp_precomp.npz\")\n",
    "rcfp = sparse.load_npz(Path(\"../data\") / \"rcfp_precomp.npz\")\n",
    "data = pd.read_csv(Path(\"../data\") / \"metadata_cleaned.csv.gz\", sep=\"\\t\")\n",
    "smartslib_path = str(Path(\"../data\") / \"group_smarts.json\")"
   ]
  },
  {
   "cell_type": "markdown",
   "metadata": {},
   "source": [
    "Loads and visualize our query reaction"
   ]
  },
  {
   "cell_type": "code",
   "execution_count": null,
   "metadata": {},
   "outputs": [],
   "source": [
    "#with open(\"bh-reaction.smi\", \"r\") as fileobj:  # This loads a simple Buchwald-Hartwig reaction\n",
    "with open(\"rxninsight-reaction.smi\", \"r\") as fileobj: # This loads a cycle-forming reaction from the RXN Insight publication\n",
    "    rsmi_query = fileobj.read().splitlines()[0]\n",
    "rxn = AllChem.ReactionFromSmarts(rsmi_query, useSmiles=True)\n",
    "Draw.ReactionToImage(rxn, subImgSize=(200, 300))"
   ]
  },
  {
   "cell_type": "markdown",
   "metadata": {},
   "source": [
    "and then assign atom-mapper using `rxnmapper`"
   ]
  },
  {
   "cell_type": "code",
   "execution_count": null,
   "metadata": {},
   "outputs": [],
   "source": [
    "rsmi_query_mapped = atom_map_reaction(rsmi_query)\n",
    "rxn = AllChem.ReactionFromSmarts(rsmi_query_mapped, useSmiles=True)\n",
    "Draw.ReactionToImage(rxn, subImgSize=(200, 300))"
   ]
  },
  {
   "cell_type": "markdown",
   "metadata": {},
   "source": [
    "Now, we can run Precedent Finder and visulize the results"
   ]
  },
  {
   "cell_type": "code",
   "execution_count": null,
   "metadata": {},
   "outputs": [],
   "source": [
    "precedent_data = find_precedents(\n",
    "    rsmi_query_mapped, \n",
    "    data, rfp, rcfp, smartslib_path\n",
    ")"
   ]
  },
  {
   "cell_type": "code",
   "execution_count": null,
   "metadata": {},
   "outputs": [],
   "source": [
    "results = defaultdict(list)\n",
    "for _, row in precedent_data.iterrows():\n",
    "    reactants, reagents, products = row.ReactionSmilesClean.split(\">\")\n",
    "    rxn = AllChem.ReactionFromSmarts(\">>\".join([reactants, products]), useSmiles=True)\n",
    "    AllChem.RemoveMappingNumbersFromReactions(rxn)\n",
    "    reagent_mol = AllChem.MolFromSmiles(reagents)\n",
    "\n",
    "    results[\"ID\"].append(row.ID.replace(\";\", \";<BR>\"))\n",
    "    results[\"Yield\"].append(row.CuratedYield)\n",
    "    results[\"Year\"].append(row.Year)\n",
    "    results[\"Reaction similarity\"].append(row.global_similarity)\n",
    "    results[\"Center similarity\"].append(row.center_similarity)\n",
    "    results[\"Godness\"].append(row.goodness)\n",
    "    results[\"Reaction\"].append(Draw.ReactionToImage(rxn, subImgSize=(200, 500)))\n",
    "    results[\"Reagents\"].append(Draw.MolToImage(reagent_mol))\n",
    "    #if len(results[\"Reagents\"]) == 10:  # Limit the number of displayed reactions\n",
    "    #    break\n",
    "results = pd.DataFrame(results)\n",
    "HTML(\n",
    "    results.to_html(\n",
    "        formatters={\"Reaction\": image_formatter, \"Reagents\": image_formatter},\n",
    "        escape=False,\n",
    "        index=False,\n",
    "    )\n",
    ")"
   ]
  }
 ],
 "metadata": {
  "kernelspec": {
   "display_name": "Python 3",
   "language": "python",
   "name": "python3"
  },
  "language_info": {
   "codemirror_mode": {
    "name": "ipython",
    "version": 3
   },
   "file_extension": ".py",
   "mimetype": "text/x-python",
   "name": "python",
   "nbconvert_exporter": "python",
   "pygments_lexer": "ipython3",
   "version": "3.10.14"
  }
 },
 "nbformat": 4,
 "nbformat_minor": 2
}
